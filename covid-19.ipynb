{
 "cells": [
  {
   "cell_type": "code",
   "execution_count": null,
   "metadata": {},
   "outputs": [],
   "source": [
    "import sys\n",
    "import os\n",
    "from pathlib import Path\n",
    "sys.path.append(os.path.abspath(''))\n",
    "import numpy as np\n",
    "import pandas as pd\n",
    "import geopandas as gpd\n",
    "from shapely.geometry import Point\n",
    "from geo import COM, PROV, REG, DEMOG, find_place\n",
    "from datetime import datetime\n",
    "\n",
    "import matplotlib.pyplot as plt\n",
    "%matplotlib notebook\n",
    "\n",
    "def datech(s):\n",
    "    return f'{s[6:]}-{s[4:6]}-{s[0:4]}'\n",
    "\n",
    "def yyymmdd2yyww(yyyymmdd):\n",
    "    if isinstance(yyyymmdd, str):\n",
    "        return datetime.strptime(yyyymmdd, '%Y%m%d').strftime('%y-%W')\n",
    "    elif isinstance(yyyymmdd, (list, tuple)):        \n",
    "        return [yyymmdd2yyww(_) for _ in yyyymmdd]"
   ]
  },
  {
   "cell_type": "code",
   "execution_count": null,
   "metadata": {},
   "outputs": [],
   "source": [
    "CWD = Path(os.path.abspath(''))\n",
    "\n",
    "data_dir = CWD / 'protezione_civile/COVID-19'\n",
    "prov_dir = data_dir /  'dati-province'\n",
    "reg_dir = data_dir /  'dati-regioni'"
   ]
  },
  {
   "cell_type": "code",
   "execution_count": null,
   "metadata": {},
   "outputs": [],
   "source": [
    "DEMOG[['prov_name', 'population']].groupby('prov_name').sum().query('prov_name==\"roma\"')\n",
    "DEMOG.query('prov_name==\"roma\" and Sesso==\"totale\"')\n",
    "pop = DEMOG.pivot_table(index=['prov_name'], columns=['Sesso', 'Stato civile', 'Età'])['population']['totale']['totale'][['totale']].reset_index()\n",
    "prov = PROV.merge(pop, on='prov_name')\n",
    "# Region merge with demography\n",
    "# Trento e Bolzano the outsiders\n",
    "pop_trentino = pop[pop['prov_name'].apply(lambda s: True if 'autono' in s.lower() else False)]['totale'].sum()\n",
    "pop = pop.append({'prov_name': 'trentino-alto adige / südtirol', 'totale': pop_trentino}, ignore_index=True)\n",
    "reg = REG.merge(pop, left_on='reg_name', right_on='prov_name')"
   ]
  },
  {
   "cell_type": "markdown",
   "metadata": {},
   "source": [
    "# Dati della Protezione Civile\n",
    "Data from [github.com/pcm-dpc/COVID-19](https://github.com/pcm-dpc/COVID-19).\n",
    "\n",
    "Questi dati sono da aggiornare giornalmente coi comandi:\n",
    "```\n",
    "cd covid-19/protezione_civile/COVID-19\n",
    "git fetch\n",
    "git merge\n",
    "```"
   ]
  },
  {
   "cell_type": "markdown",
   "metadata": {},
   "source": [
    "## Province"
   ]
  },
  {
   "cell_type": "code",
   "execution_count": null,
   "metadata": {},
   "outputs": [],
   "source": [
    "## Raggruppa tutti i dati della protezione civile in un unica tabella\n",
    "df = []\n",
    "prec = lambda s: f'{s:.4f}'\n",
    "for f in sorted(prov_dir.glob('dpc-covid19-ita-province-202*.csv')):\n",
    "    tmp_df = pd.read_csv(f, encoding='latin-1')\n",
    "    tmp_df['day'] = str(f).split('/')[-1].split('-')[-1].rstrip('.csv')\n",
    "    tmp_df['geometry'] = gpd.points_from_xy(tmp_df['long'], tmp_df['lat'])\n",
    "    tmp_df['lat_long'] = tmp_df['lat'].apply(prec).astype(str) + '_' + tmp_df['long'].apply(prec).astype(str)\n",
    "    df.append(tmp_df)\n",
    "    del tmp_df\n",
    "DF = pd.concat(df)\n",
    "del df\n",
    "DF.loc[DF['denominazione_provincia'] == 'Napoli', 'sigla_provincia'] = 'NA'\n",
    "DF['week'] = DF['day'].apply(yyymmdd2yyww)"
   ]
  },
  {
   "cell_type": "code",
   "execution_count": null,
   "metadata": {},
   "outputs": [],
   "source": [
    "## Raggruppa tutti i dati della protezione civile in un unica tabella\n",
    "df = []\n",
    "prec = lambda s: f'{s:.4f}'\n",
    "for f in sorted(reg_dir.glob('dpc-covid19-ita-regioni-202*.csv')):\n",
    "    tmp_df = pd.read_csv(f, encoding='latin-1')\n",
    "    tmp_df['day'] = str(f).split('/')[-1].split('-')[-1].rstrip('.csv')\n",
    "    tmp_df['geometry'] = gpd.points_from_xy(tmp_df['long'], tmp_df['lat'])\n",
    "    tmp_df['lat_long'] = tmp_df['lat'].apply(prec).astype(str) + '_' + tmp_df['long'].apply(prec).astype(str)\n",
    "    df.append(tmp_df)\n",
    "    del tmp_df\n",
    "DFR = pd.concat(df)\n",
    "del df"
   ]
  },
  {
   "cell_type": "code",
   "execution_count": null,
   "metadata": {},
   "outputs": [],
   "source": [
    "df0 = DF.pivot_table(index='sigla_provincia', columns='day', values='totale_casi')\n",
    "\n",
    "dates = [_ for _ in df0.columns if '20' in _]\n",
    "df0 = df0.diff(periods=1, axis=1)  # total cases -> new cases each day\n",
    "window = 7  # Larghezza della finestra mobile\n",
    "df = df0.rolling(window=window, axis=1).mean()  # Moving Window\n",
    "dfc = df0.rolling(window=window, axis=1).sum()  # Moving Window Cumulative\n",
    "# weeks = [_ for _ in dfw.columns if '-' in _]\n",
    "# weeks.pop(0)\n",
    "# weeks.pop(-1)\n",
    "# l = list(zip(df.columns, yyymmdd2yyww(df.columns.tolist())))\n",
    "# new_cols = pd.MultiIndex.from_tuples(l, names=['day', 'week'])\n",
    "# df.columns = new_cols\n",
    "\n",
    "df['totale_casi'] = df.sum(1)\n",
    "df['nuovi_casi'] = df[dates[-1]]\n",
    "\n",
    "dfc['totale_casi'] = dfc.sum(1)\n",
    "dfc['nuovi_casi'] = dfc[dates[-1]]"
   ]
  },
  {
   "cell_type": "code",
   "execution_count": null,
   "metadata": {},
   "outputs": [],
   "source": [
    "# Terapie Intensive Occupate\n",
    "ti = DFR.pivot_table(index='codice_regione', columns='day', values='terapia_intensiva').reset_index()\n",
    "TI = REG.merge(ti, left_on='reg_istat_code_num', right_on='codice_regione')\n",
    "# TI.plot(dates[-1], legend=True, cmap='Reds')"
   ]
  },
  {
   "cell_type": "code",
   "execution_count": null,
   "metadata": {},
   "outputs": [],
   "source": [
    "# Si assume un numero di 14 terapie intensive disponibili ogni 100k abitanti.\n",
    "# Allarme se si supera il 40% di occupazione\n",
    "rpop = prov.groupby('reg_istat_code_num').agg('sum')['totale'].reset_index()\n",
    "rTI = TI.merge(rpop, on='reg_istat_code_num')\n",
    "rTI[dates] = rTI[dates].divide(rTI.totale, axis=0) * 100e3 / 14 * 100\n",
    "# rTI['r'] = rTI[dates[-1]] / rTI['totale'] * 100e3 / 14 * 100\n",
    "rTI.plot(dates[-1], legend=True, cmap='Reds')"
   ]
  },
  {
   "cell_type": "code",
   "execution_count": null,
   "metadata": {},
   "outputs": [],
   "source": [
    "# Associa i dati al territorio\n",
    "m = prov.merge(df, left_on='prov_acr', right_on='sigla_provincia')\n",
    "m['casi_100k'] = m['totale_casi'] / m['totale'] * 100e3\n",
    "m['var_perc_1day'] = 100 * (m[dates[-1]] - m[dates[-window]]) / m[dates[-window]]\n",
    "# Cumulative cases (Incidence)\n",
    "mc = prov.merge(dfc, left_on='prov_acr', right_on='sigla_provincia')\n",
    "mc[dates] = mc[dates].divide(mc['totale'], axis=0) * 100e3  # nuovi casi ogni 100k abitanti\n",
    "# mc['nuovi_casi_100k'] = mc['nuovi_casi'] / mc['totale'] * 100000"
   ]
  },
  {
   "cell_type": "code",
   "execution_count": null,
   "metadata": {},
   "outputs": [],
   "source": [
    "# Province Incidence -> Region Incidence\n",
    "mcr = prov.merge(dfc, left_on='prov_acr', right_on='sigla_provincia').dissolve(by='reg_name', aggfunc='sum')\n",
    "mcr[dates] = mcr[dates].divide(mcr['totale'], axis=0) * 100e3"
   ]
  },
  {
   "cell_type": "code",
   "execution_count": null,
   "metadata": {},
   "outputs": [],
   "source": [
    "def incidence2zone(x):\n",
    "    assert x >= 0\n",
    "    if x <= 50:\n",
    "        return 'green'\n",
    "    elif x <= 100:\n",
    "        return 'yellow'\n",
    "    elif x <= 250:\n",
    "        return 'orange'\n",
    "    elif x > 250:\n",
    "        return 'red'\n",
    "mcr['zona'] =  mcr[dates[-1]].apply(incidence2zone)"
   ]
  },
  {
   "cell_type": "code",
   "execution_count": null,
   "metadata": {},
   "outputs": [],
   "source": [
    "zona = mcr.dissolve(by='zona', aggfunc='mean')['geometry']\n",
    "fig, ax = plt.subplots()\n",
    "for i in range(len(zona)):\n",
    "    color = zona.iloc[[i]].index\n",
    "    zona.iloc[[i]].boundary.plot(ax=ax, edgecolor=color, linewidth=4)"
   ]
  },
  {
   "cell_type": "code",
   "execution_count": null,
   "metadata": {
    "scrolled": false
   },
   "outputs": [],
   "source": [
    "print(f'Window: {window}')\n",
    "date_ddmmyyyy = datech(dates[-1])\n",
    "dpi = 150\n",
    "\n",
    "fig, ax = plt.subplots(1,2)\n",
    "plt.suptitle(f'Nuovi casi Covid-19 \\n aggiornamento: {date_ddmmyyyy}')\n",
    "m.plot(column='nuovi_casi', legend=True, cmap='Reds', ax=ax[1])\n",
    "m.dissolve(by='reg_name', aggfunc='sum').plot(column='nuovi_casi', legend=True, cmap='Reds', ax=ax[0])\n",
    "ax[0].axis('off')\n",
    "ax[1].axis('off')\n",
    "plt.savefig('fig/nuovi_casi.png', dpi=dpi)\n",
    "\n",
    "fig, ax = plt.subplots(1,2)\n",
    "plt.suptitle(f'Nuovi casi ogni 100.000 abitanti in {window} giorni \\n aggiornamento: {date_ddmmyyyy}')\n",
    "mc.plot(column=dates[-1], legend=True, cmap='Reds', ax=ax[1])\n",
    "mcr.plot(column=dates[-1], legend=True, cmap='Reds', ax=ax[0])\n",
    "# for i in range(len(zona)):\n",
    "#     color = zona.iloc[[i]].index\n",
    "#     zona.iloc[[i]].boundary.plot(ax=ax[0], edgecolor=color)#, linewidth=3)\n",
    "#     zona.iloc[[i]].boundary.plot(ax=ax[1], edgecolor=color)#, linewidth=3)\n",
    "ax[0].axis('off')\n",
    "ax[1].axis('off')\n",
    "plt.savefig('fig/nuovi_casi_100k.png', dpi=dpi)\n",
    "\n",
    "# m.plot(column='var_perc_1day', legend=True, cmap='seismic')\n",
    "# plt.title(f'Nuovi casi rispetto alla finestra ({window}) precedente (%) \\n aggiornamento: {date_ddmmyyyy}')\n",
    "# plt.axis('off')\n",
    "# plt.savefig('fig/delta.png', dpi=dpi)"
   ]
  },
  {
   "cell_type": "markdown",
   "metadata": {},
   "source": [
    "# Andamento per Regioni"
   ]
  },
  {
   "cell_type": "code",
   "execution_count": null,
   "metadata": {
    "scrolled": true
   },
   "outputs": [],
   "source": [
    "df = DF.pivot_table(index='denominazione_regione', columns='data', values='totale_casi', aggfunc=np.sum)\n",
    "df['incremento'] = df[df.columns[-1]] - df[df.columns[-2]]\n",
    "df = df.sort_values(['incremento', df.columns[-1]], ascending=[0, 0])\n",
    "display(df[df.columns[-3:]])"
   ]
  },
  {
   "cell_type": "markdown",
   "metadata": {},
   "source": [
    "# Andamento per Province"
   ]
  },
  {
   "cell_type": "code",
   "execution_count": null,
   "metadata": {},
   "outputs": [],
   "source": [
    "df = DF.pivot_table(index=['sigla_provincia', 'denominazione_provincia'], columns='data', values='totale_casi', aggfunc=np.sum)\n",
    "df['incremento'] = (df.iloc[:, -1] - df.iloc[:, -2])\n",
    "df = df.sort_values(['incremento', df.columns[-2]], ascending=[0, 0]).reset_index()\n",
    "df.index.rename('rank', inplace=True)\n",
    "df.columns.rename('', inplace=True)\n",
    "BRi = df.query('sigla_provincia==\"BR\"').index.values[0]\n",
    "BSi = df.query('sigla_provincia==\"BS\"').index.values[0]\n",
    "display(df.iloc[[0,1,2,3,4,5,6,7,8,9,10,11,12,BSi,BRi,-3,-2,-1], [1,-2,-1]])"
   ]
  },
  {
   "cell_type": "code",
   "execution_count": null,
   "metadata": {},
   "outputs": [],
   "source": [
    "provs = ('BS', 'BR', 'MI', 'BA', 'RM', 'NA', 'BG')\n",
    "fig, ax = plt.subplots(1,2)\n",
    "plt.suptitle(f'Nuovi casi \\n aggiornamento: {date_ddmmyyyy}')\n",
    "for p in provs:\n",
    "    m[['prov_acr']+dates[-30:-1:1]].set_index('prov_acr').T[p].plot(ax=ax[0])\n",
    "    m[['prov_acr']+dates[-30:-1:1]].set_index('prov_acr').T[p].plot(logy=True, ax=ax[1])\n",
    "plt.legend(provs)\n",
    "plt.savefig('fig/prov.png')\n",
    "\n",
    "fig, ax = plt.subplots(1,2)\n",
    "plt.suptitle(f'Incidenza {window} giorni \\n aggiornamento: {date_ddmmyyyy}')\n",
    "for p in provs:\n",
    "    mc[['prov_acr']+dates[-30:-1:1]].set_index('prov_acr').T[p].plot(ax=ax[0])\n",
    "    mc[['prov_acr']+dates[-30:-1:1]].set_index('prov_acr').T[p].plot(logy=True, ax=ax[1])\n",
    "plt.legend(provs)\n",
    "plt.savefig('fig/prov_inc.png')"
   ]
  },
  {
   "cell_type": "code",
   "execution_count": null,
   "metadata": {},
   "outputs": [],
   "source": [
    "regs = ('lombardia', 'puglia', 'emilia-romagna', 'marche', 'lazio', 'campania')\n",
    "fig, ax = plt.subplots()\n",
    "plt.suptitle(f'Incidenza {window} giorni \\n aggiornamento: {date_ddmmyyyy}')\n",
    "for p in regs:\n",
    "    mcr.reset_index()[['reg_name']+dates[-30:-1:1]].set_index('reg_name').T[p].plot(ax=ax)\n",
    "plt.legend(regs)\n",
    "plt.savefig('fig/reg_inc.png')\n",
    "\n",
    "fig, ax = plt.subplots()\n",
    "plt.suptitle(f'Occupamento (%) Terapie Intensive: {date_ddmmyyyy}')\n",
    "for p in regs:\n",
    "    rTI[['reg_name']+dates[-30:-1:1]].set_index('reg_name').T[p].plot(ax=ax)\n",
    "plt.legend(regs)\n",
    "plt.savefig('fig/ti.png')"
   ]
  },
  {
   "cell_type": "markdown",
   "metadata": {},
   "source": [
    "# Regioni"
   ]
  },
  {
   "cell_type": "code",
   "execution_count": null,
   "metadata": {},
   "outputs": [],
   "source": [
    "reg_dir = data_dir /  'dati-regioni'\n",
    "df = []\n",
    "prec = lambda s: f'{s:.4f}'\n",
    "for f in sorted(reg_dir.glob('dpc-covid19-ita-regioni-202*.csv')):\n",
    "    tmp_df = pd.read_csv(f, encoding='latin-1')\n",
    "    df.append(tmp_df)\n",
    "    del tmp_df\n",
    "DF = pd.concat(df)"
   ]
  },
  {
   "cell_type": "code",
   "execution_count": null,
   "metadata": {},
   "outputs": [],
   "source": [
    "morti = DF.pivot_table(index='denominazione_regione', columns='data', values='deceduti').sum().to_numpy()\n",
    "np.diff(morti)"
   ]
  },
  {
   "cell_type": "code",
   "execution_count": null,
   "metadata": {},
   "outputs": [],
   "source": [
    "casi = DF.pivot_table(index='denominazione_regione', columns='data', values='totale_casi').sum()\n",
    "np.diff(casi)"
   ]
  },
  {
   "cell_type": "code",
   "execution_count": null,
   "metadata": {},
   "outputs": [],
   "source": [
    "plt.figure()\n",
    "plt.semilogy(np.diff(casi))\n",
    "plt.title('Incremento giornaliero')\n",
    "\n",
    "plt.figure()\n",
    "plt.plot(np.diff(casi))\n",
    "plt.title('Incremento giornaliero')"
   ]
  },
  {
   "cell_type": "markdown",
   "metadata": {},
   "source": [
    "# Dati Johns Hopkins\n",
    "Data from [github.com/CSSEGISandData/COVID-19](https://github.com/CSSEGISandData/COVID-19)"
   ]
  },
  {
   "cell_type": "code",
   "execution_count": null,
   "metadata": {},
   "outputs": [],
   "source": [
    "df = pd.read_csv('https://raw.githubusercontent.com/CSSEGISandData/COVID-19/master/csse_covid_19_data/csse_covid_19_time_series/time_series_covid19_confirmed_global.csv')\n",
    "# df = pd.read_csv('https://raw.githubusercontent.com/CSSEGISandData/COVID-19/master/csse_covid_19_data/csse_covid_19_time_series/time_series_19-covid-Deaths.csv')\n",
    "# df = pd.read_csv('https://raw.githubusercontent.com/CSSEGISandData/COVID-19/master/csse_covid_19_data/csse_covid_19_time_series/time_series_19-covid-Recovered.csv')"
   ]
  },
  {
   "cell_type": "code",
   "execution_count": null,
   "metadata": {},
   "outputs": [],
   "source": [
    "df.columns"
   ]
  },
  {
   "cell_type": "code",
   "execution_count": null,
   "metadata": {},
   "outputs": [],
   "source": [
    "countries = ['Italy','France','Germany','Spain','Belgium', 'US', 'Denmark', 'Netherlands']\n",
    "jhdates = [c for c in df.columns if '/2' in c]\n",
    "df.groupby('Country/Region').sum().loc[countries][jhdates[-50:]].T.plot(logy=True, title='Confirmed Cases')"
   ]
  },
  {
   "cell_type": "markdown",
   "metadata": {},
   "source": [
    "# Andamento Globale"
   ]
  },
  {
   "cell_type": "code",
   "execution_count": null,
   "metadata": {},
   "outputs": [],
   "source": [
    "df = df.groupby('Country/Region').sum().loc[countries][jhdates[-10:]]\n",
    "df['increment'] = df.iloc[:, -1] - df.iloc[:, -2]\n",
    "df = df.sort_values(['increment', df.columns[-1]], ascending=[0, 0])\n",
    "display(df)"
   ]
  },
  {
   "cell_type": "markdown",
   "metadata": {},
   "source": [
    "# France"
   ]
  },
  {
   "cell_type": "code",
   "execution_count": null,
   "metadata": {},
   "outputs": [],
   "source": [
    "FR = pd.read_csv('https://raw.githubusercontent.com/opencovid19-fr/data/master/dist/chiffres-cles.csv')"
   ]
  },
  {
   "cell_type": "code",
   "execution_count": null,
   "metadata": {
    "scrolled": true
   },
   "outputs": [],
   "source": [
    "idx = ['DEP' in _ for _ in FR['maille_code']]\n",
    "DEP = FR.loc[idx].pivot_table(index=['maille_code', 'maille_nom'], columns=['date'], values=['cas_confirmes']).droplevel(level=0, axis=1)\n",
    "DEP.sum(1).sort_values(ascending=False).to_frame().iloc[:25]"
   ]
  },
  {
   "cell_type": "code",
   "execution_count": null,
   "metadata": {},
   "outputs": [],
   "source": [
    "FR.columns.unique()"
   ]
  }
 ],
 "metadata": {
  "hide_input": false,
  "kernelspec": {
   "display_name": "Python 3",
   "language": "python",
   "name": "python3"
  },
  "language_info": {
   "codemirror_mode": {
    "name": "ipython",
    "version": 3
   },
   "file_extension": ".py",
   "mimetype": "text/x-python",
   "name": "python",
   "nbconvert_exporter": "python",
   "pygments_lexer": "ipython3",
   "version": "3.9.2"
  }
 },
 "nbformat": 4,
 "nbformat_minor": 4
}